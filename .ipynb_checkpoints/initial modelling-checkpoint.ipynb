{
 "cells": [
  {
   "cell_type": "code",
   "execution_count": 37,
   "metadata": {},
   "outputs": [],
   "source": [
    "import pandas as pd\n",
    "import matplotlib.pyplot as plt\n",
    "import seaborn as sns\n",
    "import sklearn\n",
    "import numpy as np \n",
    "\n",
    "from sklearn.linear_model import LogisticRegression\n",
    "from sklearn.tree import DecisionTreeClassifier\n",
    "from sklearn.ensemble import RandomForestClassifier\n",
    "from sklearn.svm import SVC\n",
    "\n",
    "from sklearn.metrics import confusion_matrix\n",
    "from sklearn.metrics import accuracy_score"
   ]
  },
  {
   "cell_type": "code",
   "execution_count": 38,
   "metadata": {},
   "outputs": [],
   "source": [
    "df = pd.read_csv(\"creditcard_cleaned.csv\")"
   ]
  },
  {
   "cell_type": "code",
   "execution_count": 39,
   "metadata": {},
   "outputs": [
    {
     "data": {
      "text/html": [
       "<div>\n",
       "<style scoped>\n",
       "    .dataframe tbody tr th:only-of-type {\n",
       "        vertical-align: middle;\n",
       "    }\n",
       "\n",
       "    .dataframe tbody tr th {\n",
       "        vertical-align: top;\n",
       "    }\n",
       "\n",
       "    .dataframe thead th {\n",
       "        text-align: right;\n",
       "    }\n",
       "</style>\n",
       "<table border=\"1\" class=\"dataframe\">\n",
       "  <thead>\n",
       "    <tr style=\"text-align: right;\">\n",
       "      <th></th>\n",
       "      <th>Unnamed: 0</th>\n",
       "      <th>scaled_amount</th>\n",
       "      <th>scaled_time</th>\n",
       "      <th>V1</th>\n",
       "      <th>V2</th>\n",
       "      <th>V3</th>\n",
       "      <th>V4</th>\n",
       "      <th>V5</th>\n",
       "      <th>V6</th>\n",
       "      <th>V7</th>\n",
       "      <th>...</th>\n",
       "      <th>V20</th>\n",
       "      <th>V21</th>\n",
       "      <th>V22</th>\n",
       "      <th>V23</th>\n",
       "      <th>V24</th>\n",
       "      <th>V25</th>\n",
       "      <th>V26</th>\n",
       "      <th>V27</th>\n",
       "      <th>V28</th>\n",
       "      <th>Class</th>\n",
       "    </tr>\n",
       "  </thead>\n",
       "  <tbody>\n",
       "    <tr>\n",
       "      <th>0</th>\n",
       "      <td>7418</td>\n",
       "      <td>-0.201182</td>\n",
       "      <td>-1.785541</td>\n",
       "      <td>-1.386380</td>\n",
       "      <td>2.199543</td>\n",
       "      <td>1.525807</td>\n",
       "      <td>2.954481</td>\n",
       "      <td>0.264425</td>\n",
       "      <td>-0.239757</td>\n",
       "      <td>0.953239</td>\n",
       "      <td>...</td>\n",
       "      <td>-0.131055</td>\n",
       "      <td>0.662084</td>\n",
       "      <td>-0.086671</td>\n",
       "      <td>-0.118522</td>\n",
       "      <td>0.700997</td>\n",
       "      <td>0.380318</td>\n",
       "      <td>0.197355</td>\n",
       "      <td>-0.896647</td>\n",
       "      <td>-0.409293</td>\n",
       "      <td>0</td>\n",
       "    </tr>\n",
       "    <tr>\n",
       "      <th>1</th>\n",
       "      <td>154234</td>\n",
       "      <td>-0.349231</td>\n",
       "      <td>0.128667</td>\n",
       "      <td>-23.984747</td>\n",
       "      <td>16.697832</td>\n",
       "      <td>-22.209875</td>\n",
       "      <td>9.584969</td>\n",
       "      <td>-16.230439</td>\n",
       "      <td>2.596333</td>\n",
       "      <td>-33.239328</td>\n",
       "      <td>...</td>\n",
       "      <td>5.804551</td>\n",
       "      <td>-12.615023</td>\n",
       "      <td>5.774087</td>\n",
       "      <td>2.750221</td>\n",
       "      <td>0.513411</td>\n",
       "      <td>-1.608804</td>\n",
       "      <td>-0.459624</td>\n",
       "      <td>-4.626127</td>\n",
       "      <td>-0.334561</td>\n",
       "      <td>1</td>\n",
       "    </tr>\n",
       "    <tr>\n",
       "      <th>2</th>\n",
       "      <td>173753</td>\n",
       "      <td>-0.209898</td>\n",
       "      <td>0.564650</td>\n",
       "      <td>0.345932</td>\n",
       "      <td>-0.024238</td>\n",
       "      <td>-0.249973</td>\n",
       "      <td>-2.121791</td>\n",
       "      <td>0.461026</td>\n",
       "      <td>-0.265107</td>\n",
       "      <td>0.399168</td>\n",
       "      <td>...</td>\n",
       "      <td>0.177209</td>\n",
       "      <td>0.557694</td>\n",
       "      <td>1.489021</td>\n",
       "      <td>-0.219031</td>\n",
       "      <td>0.356435</td>\n",
       "      <td>0.070467</td>\n",
       "      <td>-0.027019</td>\n",
       "      <td>-0.007897</td>\n",
       "      <td>-0.016354</td>\n",
       "      <td>0</td>\n",
       "    </tr>\n",
       "    <tr>\n",
       "      <th>3</th>\n",
       "      <td>222133</td>\n",
       "      <td>0.225693</td>\n",
       "      <td>1.011331</td>\n",
       "      <td>-3.613850</td>\n",
       "      <td>-0.922136</td>\n",
       "      <td>-4.749887</td>\n",
       "      <td>3.373001</td>\n",
       "      <td>-0.545207</td>\n",
       "      <td>-1.171301</td>\n",
       "      <td>-4.172315</td>\n",
       "      <td>...</td>\n",
       "      <td>-0.320541</td>\n",
       "      <td>0.786787</td>\n",
       "      <td>0.893065</td>\n",
       "      <td>1.034907</td>\n",
       "      <td>0.097671</td>\n",
       "      <td>-1.345551</td>\n",
       "      <td>-0.788329</td>\n",
       "      <td>1.055442</td>\n",
       "      <td>0.099971</td>\n",
       "      <td>1</td>\n",
       "    </tr>\n",
       "    <tr>\n",
       "      <th>4</th>\n",
       "      <td>15506</td>\n",
       "      <td>0.046539</td>\n",
       "      <td>-1.430146</td>\n",
       "      <td>-21.885434</td>\n",
       "      <td>12.930505</td>\n",
       "      <td>-24.098872</td>\n",
       "      <td>6.203314</td>\n",
       "      <td>-16.466099</td>\n",
       "      <td>-4.459842</td>\n",
       "      <td>-16.519836</td>\n",
       "      <td>...</td>\n",
       "      <td>1.611998</td>\n",
       "      <td>1.762232</td>\n",
       "      <td>-1.579055</td>\n",
       "      <td>-0.951043</td>\n",
       "      <td>0.134565</td>\n",
       "      <td>1.507110</td>\n",
       "      <td>-0.222671</td>\n",
       "      <td>1.527655</td>\n",
       "      <td>0.453699</td>\n",
       "      <td>1</td>\n",
       "    </tr>\n",
       "  </tbody>\n",
       "</table>\n",
       "<p>5 rows × 32 columns</p>\n",
       "</div>"
      ],
      "text/plain": [
       "   Unnamed: 0  scaled_amount  scaled_time         V1         V2         V3  \\\n",
       "0        7418      -0.201182    -1.785541  -1.386380   2.199543   1.525807   \n",
       "1      154234      -0.349231     0.128667 -23.984747  16.697832 -22.209875   \n",
       "2      173753      -0.209898     0.564650   0.345932  -0.024238  -0.249973   \n",
       "3      222133       0.225693     1.011331  -3.613850  -0.922136  -4.749887   \n",
       "4       15506       0.046539    -1.430146 -21.885434  12.930505 -24.098872   \n",
       "\n",
       "         V4         V5        V6         V7  ...       V20        V21  \\\n",
       "0  2.954481   0.264425 -0.239757   0.953239  ... -0.131055   0.662084   \n",
       "1  9.584969 -16.230439  2.596333 -33.239328  ...  5.804551 -12.615023   \n",
       "2 -2.121791   0.461026 -0.265107   0.399168  ...  0.177209   0.557694   \n",
       "3  3.373001  -0.545207 -1.171301  -4.172315  ... -0.320541   0.786787   \n",
       "4  6.203314 -16.466099 -4.459842 -16.519836  ...  1.611998   1.762232   \n",
       "\n",
       "        V22       V23       V24       V25       V26       V27       V28  Class  \n",
       "0 -0.086671 -0.118522  0.700997  0.380318  0.197355 -0.896647 -0.409293      0  \n",
       "1  5.774087  2.750221  0.513411 -1.608804 -0.459624 -4.626127 -0.334561      1  \n",
       "2  1.489021 -0.219031  0.356435  0.070467 -0.027019 -0.007897 -0.016354      0  \n",
       "3  0.893065  1.034907  0.097671 -1.345551 -0.788329  1.055442  0.099971      1  \n",
       "4 -1.579055 -0.951043  0.134565  1.507110 -0.222671  1.527655  0.453699      1  \n",
       "\n",
       "[5 rows x 32 columns]"
      ]
     },
     "execution_count": 39,
     "metadata": {},
     "output_type": "execute_result"
    }
   ],
   "source": [
    "df.head()"
   ]
  },
  {
   "cell_type": "code",
   "execution_count": 40,
   "metadata": {},
   "outputs": [],
   "source": [
    "df = df.drop(['Unnamed: 0'], axis = 1)"
   ]
  },
  {
   "cell_type": "code",
   "execution_count": 41,
   "metadata": {},
   "outputs": [
    {
     "data": {
      "text/html": [
       "<div>\n",
       "<style scoped>\n",
       "    .dataframe tbody tr th:only-of-type {\n",
       "        vertical-align: middle;\n",
       "    }\n",
       "\n",
       "    .dataframe tbody tr th {\n",
       "        vertical-align: top;\n",
       "    }\n",
       "\n",
       "    .dataframe thead th {\n",
       "        text-align: right;\n",
       "    }\n",
       "</style>\n",
       "<table border=\"1\" class=\"dataframe\">\n",
       "  <thead>\n",
       "    <tr style=\"text-align: right;\">\n",
       "      <th></th>\n",
       "      <th>scaled_amount</th>\n",
       "      <th>scaled_time</th>\n",
       "      <th>V1</th>\n",
       "      <th>V2</th>\n",
       "      <th>V3</th>\n",
       "      <th>V4</th>\n",
       "      <th>V5</th>\n",
       "      <th>V6</th>\n",
       "      <th>V7</th>\n",
       "      <th>V8</th>\n",
       "      <th>...</th>\n",
       "      <th>V20</th>\n",
       "      <th>V21</th>\n",
       "      <th>V22</th>\n",
       "      <th>V23</th>\n",
       "      <th>V24</th>\n",
       "      <th>V25</th>\n",
       "      <th>V26</th>\n",
       "      <th>V27</th>\n",
       "      <th>V28</th>\n",
       "      <th>Class</th>\n",
       "    </tr>\n",
       "  </thead>\n",
       "  <tbody>\n",
       "    <tr>\n",
       "      <th>0</th>\n",
       "      <td>-0.201182</td>\n",
       "      <td>-1.785541</td>\n",
       "      <td>-1.386380</td>\n",
       "      <td>2.199543</td>\n",
       "      <td>1.525807</td>\n",
       "      <td>2.954481</td>\n",
       "      <td>0.264425</td>\n",
       "      <td>-0.239757</td>\n",
       "      <td>0.953239</td>\n",
       "      <td>-1.336626</td>\n",
       "      <td>...</td>\n",
       "      <td>-0.131055</td>\n",
       "      <td>0.662084</td>\n",
       "      <td>-0.086671</td>\n",
       "      <td>-0.118522</td>\n",
       "      <td>0.700997</td>\n",
       "      <td>0.380318</td>\n",
       "      <td>0.197355</td>\n",
       "      <td>-0.896647</td>\n",
       "      <td>-0.409293</td>\n",
       "      <td>0</td>\n",
       "    </tr>\n",
       "    <tr>\n",
       "      <th>1</th>\n",
       "      <td>-0.349231</td>\n",
       "      <td>0.128667</td>\n",
       "      <td>-23.984747</td>\n",
       "      <td>16.697832</td>\n",
       "      <td>-22.209875</td>\n",
       "      <td>9.584969</td>\n",
       "      <td>-16.230439</td>\n",
       "      <td>2.596333</td>\n",
       "      <td>-33.239328</td>\n",
       "      <td>-21.560039</td>\n",
       "      <td>...</td>\n",
       "      <td>5.804551</td>\n",
       "      <td>-12.615023</td>\n",
       "      <td>5.774087</td>\n",
       "      <td>2.750221</td>\n",
       "      <td>0.513411</td>\n",
       "      <td>-1.608804</td>\n",
       "      <td>-0.459624</td>\n",
       "      <td>-4.626127</td>\n",
       "      <td>-0.334561</td>\n",
       "      <td>1</td>\n",
       "    </tr>\n",
       "    <tr>\n",
       "      <th>2</th>\n",
       "      <td>-0.209898</td>\n",
       "      <td>0.564650</td>\n",
       "      <td>0.345932</td>\n",
       "      <td>-0.024238</td>\n",
       "      <td>-0.249973</td>\n",
       "      <td>-2.121791</td>\n",
       "      <td>0.461026</td>\n",
       "      <td>-0.265107</td>\n",
       "      <td>0.399168</td>\n",
       "      <td>-0.121305</td>\n",
       "      <td>...</td>\n",
       "      <td>0.177209</td>\n",
       "      <td>0.557694</td>\n",
       "      <td>1.489021</td>\n",
       "      <td>-0.219031</td>\n",
       "      <td>0.356435</td>\n",
       "      <td>0.070467</td>\n",
       "      <td>-0.027019</td>\n",
       "      <td>-0.007897</td>\n",
       "      <td>-0.016354</td>\n",
       "      <td>0</td>\n",
       "    </tr>\n",
       "    <tr>\n",
       "      <th>3</th>\n",
       "      <td>0.225693</td>\n",
       "      <td>1.011331</td>\n",
       "      <td>-3.613850</td>\n",
       "      <td>-0.922136</td>\n",
       "      <td>-4.749887</td>\n",
       "      <td>3.373001</td>\n",
       "      <td>-0.545207</td>\n",
       "      <td>-1.171301</td>\n",
       "      <td>-4.172315</td>\n",
       "      <td>1.517016</td>\n",
       "      <td>...</td>\n",
       "      <td>-0.320541</td>\n",
       "      <td>0.786787</td>\n",
       "      <td>0.893065</td>\n",
       "      <td>1.034907</td>\n",
       "      <td>0.097671</td>\n",
       "      <td>-1.345551</td>\n",
       "      <td>-0.788329</td>\n",
       "      <td>1.055442</td>\n",
       "      <td>0.099971</td>\n",
       "      <td>1</td>\n",
       "    </tr>\n",
       "    <tr>\n",
       "      <th>4</th>\n",
       "      <td>0.046539</td>\n",
       "      <td>-1.430146</td>\n",
       "      <td>-21.885434</td>\n",
       "      <td>12.930505</td>\n",
       "      <td>-24.098872</td>\n",
       "      <td>6.203314</td>\n",
       "      <td>-16.466099</td>\n",
       "      <td>-4.459842</td>\n",
       "      <td>-16.519836</td>\n",
       "      <td>14.535565</td>\n",
       "      <td>...</td>\n",
       "      <td>1.611998</td>\n",
       "      <td>1.762232</td>\n",
       "      <td>-1.579055</td>\n",
       "      <td>-0.951043</td>\n",
       "      <td>0.134565</td>\n",
       "      <td>1.507110</td>\n",
       "      <td>-0.222671</td>\n",
       "      <td>1.527655</td>\n",
       "      <td>0.453699</td>\n",
       "      <td>1</td>\n",
       "    </tr>\n",
       "  </tbody>\n",
       "</table>\n",
       "<p>5 rows × 31 columns</p>\n",
       "</div>"
      ],
      "text/plain": [
       "   scaled_amount  scaled_time         V1         V2         V3        V4  \\\n",
       "0      -0.201182    -1.785541  -1.386380   2.199543   1.525807  2.954481   \n",
       "1      -0.349231     0.128667 -23.984747  16.697832 -22.209875  9.584969   \n",
       "2      -0.209898     0.564650   0.345932  -0.024238  -0.249973 -2.121791   \n",
       "3       0.225693     1.011331  -3.613850  -0.922136  -4.749887  3.373001   \n",
       "4       0.046539    -1.430146 -21.885434  12.930505 -24.098872  6.203314   \n",
       "\n",
       "          V5        V6         V7         V8  ...       V20        V21  \\\n",
       "0   0.264425 -0.239757   0.953239  -1.336626  ... -0.131055   0.662084   \n",
       "1 -16.230439  2.596333 -33.239328 -21.560039  ...  5.804551 -12.615023   \n",
       "2   0.461026 -0.265107   0.399168  -0.121305  ...  0.177209   0.557694   \n",
       "3  -0.545207 -1.171301  -4.172315   1.517016  ... -0.320541   0.786787   \n",
       "4 -16.466099 -4.459842 -16.519836  14.535565  ...  1.611998   1.762232   \n",
       "\n",
       "        V22       V23       V24       V25       V26       V27       V28  Class  \n",
       "0 -0.086671 -0.118522  0.700997  0.380318  0.197355 -0.896647 -0.409293      0  \n",
       "1  5.774087  2.750221  0.513411 -1.608804 -0.459624 -4.626127 -0.334561      1  \n",
       "2  1.489021 -0.219031  0.356435  0.070467 -0.027019 -0.007897 -0.016354      0  \n",
       "3  0.893065  1.034907  0.097671 -1.345551 -0.788329  1.055442  0.099971      1  \n",
       "4 -1.579055 -0.951043  0.134565  1.507110 -0.222671  1.527655  0.453699      1  \n",
       "\n",
       "[5 rows x 31 columns]"
      ]
     },
     "execution_count": 41,
     "metadata": {},
     "output_type": "execute_result"
    }
   ],
   "source": [
    "df.head()"
   ]
  },
  {
   "cell_type": "code",
   "execution_count": 42,
   "metadata": {},
   "outputs": [
    {
     "data": {
      "text/plain": [
       "(984, 31)"
      ]
     },
     "execution_count": 42,
     "metadata": {},
     "output_type": "execute_result"
    }
   ],
   "source": [
    "df.shape"
   ]
  },
  {
   "cell_type": "code",
   "execution_count": 43,
   "metadata": {},
   "outputs": [],
   "source": [
    "X=df.iloc[:,:-1]\n",
    "y=df.iloc[:,-1]\n",
    "\n",
    "from sklearn.model_selection import train_test_split\n",
    "X_train, X_test, y_train, y_test = train_test_split(X, y, test_size = 0.2, random_state = 24)"
   ]
  },
  {
   "cell_type": "markdown",
   "metadata": {},
   "source": [
    "### Logistic Regression"
   ]
  },
  {
   "cell_type": "code",
   "execution_count": 62,
   "metadata": {},
   "outputs": [
    {
     "data": {
      "text/plain": [
       "LogisticRegression(max_iter=1000, random_state=0)"
      ]
     },
     "execution_count": 62,
     "metadata": {},
     "output_type": "execute_result"
    }
   ],
   "source": [
    "lr_classifier = LogisticRegression(max_iter=1000,random_state=0)\n",
    "lr_classifier.fit(X_train,y_train)"
   ]
  },
  {
   "cell_type": "code",
   "execution_count": 63,
   "metadata": {},
   "outputs": [
    {
     "data": {
      "text/plain": [
       "array([[86,  4],\n",
       "       [10, 97]], dtype=int64)"
      ]
     },
     "execution_count": 63,
     "metadata": {},
     "output_type": "execute_result"
    }
   ],
   "source": [
    "y_pred = lr_classifier.predict(X_test)\n",
    "\n",
    "cm = confusion_matrix(y_test, y_pred)\n",
    "cm"
   ]
  },
  {
   "cell_type": "code",
   "execution_count": 64,
   "metadata": {},
   "outputs": [
    {
     "data": {
      "text/plain": [
       "0.9289340101522843"
      ]
     },
     "execution_count": 64,
     "metadata": {},
     "output_type": "execute_result"
    }
   ],
   "source": [
    "accuracy_score(y_test, y_pred)"
   ]
  },
  {
   "cell_type": "markdown",
   "metadata": {},
   "source": [
    "### Decision Tree Classifier"
   ]
  },
  {
   "cell_type": "code",
   "execution_count": 65,
   "metadata": {},
   "outputs": [
    {
     "data": {
      "text/plain": [
       "DecisionTreeClassifier(criterion='entropy', random_state=0)"
      ]
     },
     "execution_count": 65,
     "metadata": {},
     "output_type": "execute_result"
    }
   ],
   "source": [
    "dt_classifier= DecisionTreeClassifier(criterion='entropy', random_state=0)  \n",
    "dt_classifier.fit(X_train, y_train)  "
   ]
  },
  {
   "cell_type": "code",
   "execution_count": 66,
   "metadata": {},
   "outputs": [
    {
     "data": {
      "text/plain": [
       "array([[87,  3],\n",
       "       [10, 97]], dtype=int64)"
      ]
     },
     "execution_count": 66,
     "metadata": {},
     "output_type": "execute_result"
    }
   ],
   "source": [
    " y_pred= dt_classifier.predict(X_test)  \n",
    "\n",
    "cm= confusion_matrix(y_test, y_pred)  \n",
    "cm"
   ]
  },
  {
   "cell_type": "code",
   "execution_count": 67,
   "metadata": {},
   "outputs": [
    {
     "data": {
      "text/plain": [
       "0.934010152284264"
      ]
     },
     "execution_count": 67,
     "metadata": {},
     "output_type": "execute_result"
    }
   ],
   "source": [
    "accuracy_score(y_test, y_pred)"
   ]
  },
  {
   "cell_type": "markdown",
   "metadata": {},
   "source": [
    "### Random Forest"
   ]
  },
  {
   "cell_type": "code",
   "execution_count": 68,
   "metadata": {},
   "outputs": [
    {
     "data": {
      "text/plain": [
       "array([[87,  3],\n",
       "       [10, 97]], dtype=int64)"
      ]
     },
     "execution_count": 68,
     "metadata": {},
     "output_type": "execute_result"
    }
   ],
   "source": [
    "rf_classifier=RandomForestClassifier(n_estimators=20,criterion='entropy',random_state=0)\n",
    "rf_classifier.fit(X_train,y_train)\n",
    "y_pred=rf_classifier.predict(X_test)\n",
    "  \n",
    "cm= confusion_matrix(y_test, y_pred)  \n",
    "cm"
   ]
  },
  {
   "cell_type": "code",
   "execution_count": 69,
   "metadata": {},
   "outputs": [
    {
     "data": {
      "text/plain": [
       "0.934010152284264"
      ]
     },
     "execution_count": 69,
     "metadata": {},
     "output_type": "execute_result"
    }
   ],
   "source": [
    "accuracy_score(y_test, y_pred)"
   ]
  },
  {
   "cell_type": "markdown",
   "metadata": {},
   "source": [
    "### Support Vector Classifier"
   ]
  },
  {
   "cell_type": "code",
   "execution_count": 70,
   "metadata": {},
   "outputs": [
    {
     "data": {
      "text/plain": [
       "SVC(kernel='poly')"
      ]
     },
     "execution_count": 70,
     "metadata": {},
     "output_type": "execute_result"
    }
   ],
   "source": [
    "#svclassifier=SVC(kernel='linear') accuracy=93%\n",
    "svclassifier=SVC(kernel='poly')\n",
    "svclassifier.fit(X_train,y_train)"
   ]
  },
  {
   "cell_type": "code",
   "execution_count": 71,
   "metadata": {},
   "outputs": [
    {
     "data": {
      "text/plain": [
       "array([[90,  0],\n",
       "       [22, 85]], dtype=int64)"
      ]
     },
     "execution_count": 71,
     "metadata": {},
     "output_type": "execute_result"
    }
   ],
   "source": [
    "y_pred=svclassifier.predict(X_test)\n",
    "cm= confusion_matrix(y_test, y_pred)  \n",
    "cm"
   ]
  },
  {
   "cell_type": "code",
   "execution_count": 72,
   "metadata": {},
   "outputs": [
    {
     "data": {
      "text/plain": [
       "0.8883248730964467"
      ]
     },
     "execution_count": 72,
     "metadata": {},
     "output_type": "execute_result"
    }
   ],
   "source": [
    "accuracy_score(y_test, y_pred)"
   ]
  }
 ],
 "metadata": {
  "kernelspec": {
   "display_name": "Python 3",
   "language": "python",
   "name": "python3"
  },
  "language_info": {
   "codemirror_mode": {
    "name": "ipython",
    "version": 3
   },
   "file_extension": ".py",
   "mimetype": "text/x-python",
   "name": "python",
   "nbconvert_exporter": "python",
   "pygments_lexer": "ipython3",
   "version": "3.8.3"
  }
 },
 "nbformat": 4,
 "nbformat_minor": 2
}
