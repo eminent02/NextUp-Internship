{
 "cells": [
  {
   "cell_type": "code",
   "execution_count": 1,
   "metadata": {},
   "outputs": [],
   "source": [
    "import pandas as pd\n",
    "import matplotlib.pyplot as plt\n",
    "import seaborn as sns\n",
    "import sklearn\n",
    "import numpy as np\n",
    "import joblib\n",
    "import warnings\n",
    "warnings.filterwarnings(\"ignore\")\n",
    "\n",
    "from sklearn.model_selection import train_test_split\n",
    "from sklearn.linear_model import LogisticRegression\n",
    "from sklearn.linear_model import LogisticRegressionCV\n",
    "from sklearn.svm import SVC\n",
    "from sklearn.svm import NuSVC\n",
    "from sklearn.svm import LinearSVC\n",
    "from sklearn.tree import DecisionTreeClassifier\n",
    "from sklearn.ensemble import RandomForestClassifier\n",
    "\n",
    "\n",
    "from sklearn.metrics import confusion_matrix,classification_report\n",
    "from sklearn.metrics import accuracy_score"
   ]
  },
  {
   "cell_type": "code",
   "execution_count": 2,
   "metadata": {},
   "outputs": [],
   "source": [
    "df = pd.read_csv(\"creditcard_cleaned.csv\")"
   ]
  },
  {
   "cell_type": "code",
   "execution_count": 3,
   "metadata": {},
   "outputs": [
    {
     "data": {
      "text/html": [
       "<div>\n",
       "<style scoped>\n",
       "    .dataframe tbody tr th:only-of-type {\n",
       "        vertical-align: middle;\n",
       "    }\n",
       "\n",
       "    .dataframe tbody tr th {\n",
       "        vertical-align: top;\n",
       "    }\n",
       "\n",
       "    .dataframe thead th {\n",
       "        text-align: right;\n",
       "    }\n",
       "</style>\n",
       "<table border=\"1\" class=\"dataframe\">\n",
       "  <thead>\n",
       "    <tr style=\"text-align: right;\">\n",
       "      <th></th>\n",
       "      <th>Unnamed: 0</th>\n",
       "      <th>scaled_amount</th>\n",
       "      <th>scaled_time</th>\n",
       "      <th>V1</th>\n",
       "      <th>V2</th>\n",
       "      <th>V3</th>\n",
       "      <th>V4</th>\n",
       "      <th>V5</th>\n",
       "      <th>V6</th>\n",
       "      <th>V7</th>\n",
       "      <th>...</th>\n",
       "      <th>V20</th>\n",
       "      <th>V21</th>\n",
       "      <th>V22</th>\n",
       "      <th>V23</th>\n",
       "      <th>V24</th>\n",
       "      <th>V25</th>\n",
       "      <th>V26</th>\n",
       "      <th>V27</th>\n",
       "      <th>V28</th>\n",
       "      <th>Class</th>\n",
       "    </tr>\n",
       "  </thead>\n",
       "  <tbody>\n",
       "    <tr>\n",
       "      <th>0</th>\n",
       "      <td>7418</td>\n",
       "      <td>-0.201182</td>\n",
       "      <td>-1.785541</td>\n",
       "      <td>-1.386380</td>\n",
       "      <td>2.199543</td>\n",
       "      <td>1.525807</td>\n",
       "      <td>2.954481</td>\n",
       "      <td>0.264425</td>\n",
       "      <td>-0.239757</td>\n",
       "      <td>0.953239</td>\n",
       "      <td>...</td>\n",
       "      <td>-0.131055</td>\n",
       "      <td>0.662084</td>\n",
       "      <td>-0.086671</td>\n",
       "      <td>-0.118522</td>\n",
       "      <td>0.700997</td>\n",
       "      <td>0.380318</td>\n",
       "      <td>0.197355</td>\n",
       "      <td>-0.896647</td>\n",
       "      <td>-0.409293</td>\n",
       "      <td>0</td>\n",
       "    </tr>\n",
       "    <tr>\n",
       "      <th>1</th>\n",
       "      <td>154234</td>\n",
       "      <td>-0.349231</td>\n",
       "      <td>0.128667</td>\n",
       "      <td>-23.984747</td>\n",
       "      <td>16.697832</td>\n",
       "      <td>-22.209875</td>\n",
       "      <td>9.584969</td>\n",
       "      <td>-16.230439</td>\n",
       "      <td>2.596333</td>\n",
       "      <td>-33.239328</td>\n",
       "      <td>...</td>\n",
       "      <td>5.804551</td>\n",
       "      <td>-12.615023</td>\n",
       "      <td>5.774087</td>\n",
       "      <td>2.750221</td>\n",
       "      <td>0.513411</td>\n",
       "      <td>-1.608804</td>\n",
       "      <td>-0.459624</td>\n",
       "      <td>-4.626127</td>\n",
       "      <td>-0.334561</td>\n",
       "      <td>1</td>\n",
       "    </tr>\n",
       "    <tr>\n",
       "      <th>2</th>\n",
       "      <td>173753</td>\n",
       "      <td>-0.209898</td>\n",
       "      <td>0.564650</td>\n",
       "      <td>0.345932</td>\n",
       "      <td>-0.024238</td>\n",
       "      <td>-0.249973</td>\n",
       "      <td>-2.121791</td>\n",
       "      <td>0.461026</td>\n",
       "      <td>-0.265107</td>\n",
       "      <td>0.399168</td>\n",
       "      <td>...</td>\n",
       "      <td>0.177209</td>\n",
       "      <td>0.557694</td>\n",
       "      <td>1.489021</td>\n",
       "      <td>-0.219031</td>\n",
       "      <td>0.356435</td>\n",
       "      <td>0.070467</td>\n",
       "      <td>-0.027019</td>\n",
       "      <td>-0.007897</td>\n",
       "      <td>-0.016354</td>\n",
       "      <td>0</td>\n",
       "    </tr>\n",
       "    <tr>\n",
       "      <th>3</th>\n",
       "      <td>222133</td>\n",
       "      <td>0.225693</td>\n",
       "      <td>1.011331</td>\n",
       "      <td>-3.613850</td>\n",
       "      <td>-0.922136</td>\n",
       "      <td>-4.749887</td>\n",
       "      <td>3.373001</td>\n",
       "      <td>-0.545207</td>\n",
       "      <td>-1.171301</td>\n",
       "      <td>-4.172315</td>\n",
       "      <td>...</td>\n",
       "      <td>-0.320541</td>\n",
       "      <td>0.786787</td>\n",
       "      <td>0.893065</td>\n",
       "      <td>1.034907</td>\n",
       "      <td>0.097671</td>\n",
       "      <td>-1.345551</td>\n",
       "      <td>-0.788329</td>\n",
       "      <td>1.055442</td>\n",
       "      <td>0.099971</td>\n",
       "      <td>1</td>\n",
       "    </tr>\n",
       "    <tr>\n",
       "      <th>4</th>\n",
       "      <td>15506</td>\n",
       "      <td>0.046539</td>\n",
       "      <td>-1.430146</td>\n",
       "      <td>-21.885434</td>\n",
       "      <td>12.930505</td>\n",
       "      <td>-24.098872</td>\n",
       "      <td>6.203314</td>\n",
       "      <td>-16.466099</td>\n",
       "      <td>-4.459842</td>\n",
       "      <td>-16.519836</td>\n",
       "      <td>...</td>\n",
       "      <td>1.611998</td>\n",
       "      <td>1.762232</td>\n",
       "      <td>-1.579055</td>\n",
       "      <td>-0.951043</td>\n",
       "      <td>0.134565</td>\n",
       "      <td>1.507110</td>\n",
       "      <td>-0.222671</td>\n",
       "      <td>1.527655</td>\n",
       "      <td>0.453699</td>\n",
       "      <td>1</td>\n",
       "    </tr>\n",
       "  </tbody>\n",
       "</table>\n",
       "<p>5 rows × 32 columns</p>\n",
       "</div>"
      ],
      "text/plain": [
       "   Unnamed: 0  scaled_amount  scaled_time         V1         V2         V3  \\\n",
       "0        7418      -0.201182    -1.785541  -1.386380   2.199543   1.525807   \n",
       "1      154234      -0.349231     0.128667 -23.984747  16.697832 -22.209875   \n",
       "2      173753      -0.209898     0.564650   0.345932  -0.024238  -0.249973   \n",
       "3      222133       0.225693     1.011331  -3.613850  -0.922136  -4.749887   \n",
       "4       15506       0.046539    -1.430146 -21.885434  12.930505 -24.098872   \n",
       "\n",
       "         V4         V5        V6         V7  ...       V20        V21  \\\n",
       "0  2.954481   0.264425 -0.239757   0.953239  ... -0.131055   0.662084   \n",
       "1  9.584969 -16.230439  2.596333 -33.239328  ...  5.804551 -12.615023   \n",
       "2 -2.121791   0.461026 -0.265107   0.399168  ...  0.177209   0.557694   \n",
       "3  3.373001  -0.545207 -1.171301  -4.172315  ... -0.320541   0.786787   \n",
       "4  6.203314 -16.466099 -4.459842 -16.519836  ...  1.611998   1.762232   \n",
       "\n",
       "        V22       V23       V24       V25       V26       V27       V28  Class  \n",
       "0 -0.086671 -0.118522  0.700997  0.380318  0.197355 -0.896647 -0.409293      0  \n",
       "1  5.774087  2.750221  0.513411 -1.608804 -0.459624 -4.626127 -0.334561      1  \n",
       "2  1.489021 -0.219031  0.356435  0.070467 -0.027019 -0.007897 -0.016354      0  \n",
       "3  0.893065  1.034907  0.097671 -1.345551 -0.788329  1.055442  0.099971      1  \n",
       "4 -1.579055 -0.951043  0.134565  1.507110 -0.222671  1.527655  0.453699      1  \n",
       "\n",
       "[5 rows x 32 columns]"
      ]
     },
     "execution_count": 3,
     "metadata": {},
     "output_type": "execute_result"
    }
   ],
   "source": [
    "df.head()"
   ]
  },
  {
   "cell_type": "code",
   "execution_count": 4,
   "metadata": {},
   "outputs": [],
   "source": [
    "df = df.drop(['Unnamed: 0'], axis = 1)"
   ]
  },
  {
   "cell_type": "markdown",
   "metadata": {},
   "source": [
    "#### After dropping the columns which have least correlation with 'class' we observe a rise in accuracy"
   ]
  },
  {
   "cell_type": "code",
   "execution_count": 5,
   "metadata": {},
   "outputs": [],
   "source": [
    "df.drop(['scaled_amount','scaled_time','V8','V13','V15','V20', 'V21', 'V22', 'V23', 'V24', 'V25', 'V26', 'V27', 'V28'], axis=1, inplace=True)"
   ]
  },
  {
   "cell_type": "code",
   "execution_count": 6,
   "metadata": {},
   "outputs": [],
   "source": [
    "X = df.drop('Class', axis = 1)\n",
    "y = df['Class']"
   ]
  },
  {
   "cell_type": "code",
   "execution_count": 7,
   "metadata": {},
   "outputs": [],
   "source": [
    "X_train, X_test, y_train, y_test = train_test_split(X, y, test_size = 0.2, random_state = 42)"
   ]
  },
  {
   "cell_type": "code",
   "execution_count": 8,
   "metadata": {},
   "outputs": [],
   "source": [
    "classifiers = {\n",
    "    \"Logistic Regression\": LogisticRegression(max_iter=10000,random_state=0),\n",
    "    \"Logistic Regression with Cross Validation\": LogisticRegressionCV(max_iter = 10000, cv=5, random_state=0),\n",
    "    \"Support Vector Classifier\": SVC(kernel='linear'),\n",
    "    \"One vs One SVC\": NuSVC(),\n",
    "    \"Linear SVC\": LinearSVC(),\n",
    "    \"Decision Tree Classifer\": DecisionTreeClassifier(criterion='entropy', random_state=0),\n",
    "    \"Random Forest\": RandomForestClassifier(n_estimators=20,criterion='entropy',random_state=0)\n",
    "}"
   ]
  },
  {
   "cell_type": "code",
   "execution_count": 9,
   "metadata": {},
   "outputs": [
    {
     "name": "stdout",
     "output_type": "stream",
     "text": [
      "Classifiers:  LogisticRegression has a training score of 98.0\n",
      "Classifiers:  LogisticRegressionCV has a training score of 98.0\n",
      "Classifiers:  SVC has a training score of 97.0\n",
      "Classifiers:  NuSVC has a training score of 97.0\n",
      "Classifiers:  LinearSVC has a training score of 97.0\n",
      "Classifiers:  DecisionTreeClassifier has a training score of 94.0\n",
      "Classifiers:  RandomForestClassifier has a training score of 97.0\n"
     ]
    }
   ],
   "source": [
    "from sklearn.model_selection import cross_val_score\n",
    "scores = []\n",
    "for key, classifier in classifiers.items():\n",
    "    classifier.fit(X_train, y_train)\n",
    "    training_score = cross_val_score(classifier, X_train, y_train, cv=5)\n",
    "    print(\"Classifiers: \", classifier.__class__.__name__, \"has a training score of\", round(training_score.max(), 2) * 100)"
   ]
  },
  {
   "cell_type": "code",
   "execution_count": 10,
   "metadata": {
    "scrolled": true
   },
   "outputs": [],
   "source": [
    "from sklearn.metrics import roc_curve\n",
    "from sklearn.model_selection import cross_val_predict\n",
    "\n",
    "for key, classifier in classifiers.items():\n",
    "    log_pred = cross_val_predict(LogisticRegression(max_iter=10000,random_state=0), X_train, y_train, cv=5)\n",
    "    log_cv_pred = cross_val_predict(LogisticRegressionCV(max_iter = 10000, cv=5, random_state=0), X_train, y_train, cv=5)\n",
    "    svc_pred = cross_val_predict(SVC(kernel='linear'), X_train, y_train, cv=5)\n",
    "    nusvc_pred = cross_val_predict(NuSVC(), X_train, y_train, cv=5)\n",
    "    linear_svc_pred = cross_val_predict(LinearSVC(), X_train, y_train, cv=5)\n",
    "    decision_tree_pred = cross_val_predict(DecisionTreeClassifier(criterion='entropy', random_state=0), X_train, y_train, cv=5)\n",
    "    random_forest_pred = cross_val_predict(RandomForestClassifier(n_estimators=20,criterion='entropy',random_state=0), X_train, y_train, cv=5)"
   ]
  },
  {
   "cell_type": "code",
   "execution_count": 11,
   "metadata": {},
   "outputs": [
    {
     "name": "stdout",
     "output_type": "stream",
     "text": [
      "Logistic Regression 0.9392993342382523\n",
      "Logistic Regression CV 0.9479413095468942\n",
      "SVC 0.945472173744425\n",
      "NuSMC 0.9123779975437917\n",
      "Linear SVC 0.943003037941956\n",
      "Decision tree 0.9012507271669575\n",
      "Random Forest 0.9390763363712753\n"
     ]
    }
   ],
   "source": [
    "from sklearn.metrics import roc_auc_score\n",
    "\n",
    "print('Logistic Regression', roc_auc_score(y_train, log_pred))\n",
    "print('Logistic Regression CV', roc_auc_score(y_train, log_cv_pred))\n",
    "print('SVC', roc_auc_score(y_train, svc_pred))\n",
    "print('NuSMC', roc_auc_score(y_train, nusvc_pred))\n",
    "print('Linear SVC', roc_auc_score(y_train, linear_svc_pred))\n",
    "print('Decision tree', roc_auc_score(y_train, decision_tree_pred))\n",
    "print('Random Forest', roc_auc_score(y_train, random_forest_pred))"
   ]
  },
  {
   "cell_type": "markdown",
   "metadata": {},
   "source": [
    "Both Logistic Regression with Cross validation and Support Vector Classifer give a very high roc-auc score"
   ]
  },
  {
   "cell_type": "code",
   "execution_count": 12,
   "metadata": {
    "scrolled": true
   },
   "outputs": [
    {
     "name": "stdout",
     "output_type": "stream",
     "text": [
      "Classifiers:  LogisticRegression\n",
      "              precision    recall  f1-score   support\n",
      "\n",
      "       Fraud       0.88      0.97      0.92        87\n",
      "   Non-Fraud       0.97      0.89      0.93       110\n",
      "\n",
      "    accuracy                           0.92       197\n",
      "   macro avg       0.92      0.93      0.92       197\n",
      "weighted avg       0.93      0.92      0.92       197\n",
      "\n",
      "[[84  3]\n",
      " [12 98]]\n",
      "0.9238578680203046\n",
      "------------------------------------------------------------\n",
      "Classifiers:  LogisticRegressionCV\n",
      "              precision    recall  f1-score   support\n",
      "\n",
      "       Fraud       0.88      0.98      0.92        87\n",
      "   Non-Fraud       0.98      0.89      0.93       110\n",
      "\n",
      "    accuracy                           0.93       197\n",
      "   macro avg       0.93      0.93      0.93       197\n",
      "weighted avg       0.93      0.93      0.93       197\n",
      "\n",
      "[[85  2]\n",
      " [12 98]]\n",
      "0.9289340101522843\n",
      "------------------------------------------------------------\n",
      "Classifiers:  SVC\n",
      "              precision    recall  f1-score   support\n",
      "\n",
      "       Fraud       0.89      0.98      0.93        87\n",
      "   Non-Fraud       0.98      0.90      0.94       110\n",
      "\n",
      "    accuracy                           0.93       197\n",
      "   macro avg       0.93      0.94      0.93       197\n",
      "weighted avg       0.94      0.93      0.93       197\n",
      "\n",
      "[[85  2]\n",
      " [11 99]]\n",
      "0.934010152284264\n",
      "------------------------------------------------------------\n",
      "Classifiers:  NuSVC\n",
      "              precision    recall  f1-score   support\n",
      "\n",
      "       Fraud       0.80      1.00      0.89        87\n",
      "   Non-Fraud       1.00      0.80      0.89       110\n",
      "\n",
      "    accuracy                           0.89       197\n",
      "   macro avg       0.90      0.90      0.89       197\n",
      "weighted avg       0.91      0.89      0.89       197\n",
      "\n",
      "[[87  0]\n",
      " [22 88]]\n",
      "0.8883248730964467\n",
      "------------------------------------------------------------\n",
      "Classifiers:  LinearSVC\n",
      "              precision    recall  f1-score   support\n",
      "\n",
      "       Fraud       0.88      0.97      0.92        87\n",
      "   Non-Fraud       0.97      0.90      0.93       110\n",
      "\n",
      "    accuracy                           0.93       197\n",
      "   macro avg       0.93      0.93      0.93       197\n",
      "weighted avg       0.93      0.93      0.93       197\n",
      "\n",
      "[[84  3]\n",
      " [11 99]]\n",
      "0.9289340101522843\n",
      "------------------------------------------------------------\n",
      "Classifiers:  DecisionTreeClassifier\n",
      "              precision    recall  f1-score   support\n",
      "\n",
      "       Fraud       0.88      0.92      0.90        87\n",
      "   Non-Fraud       0.93      0.90      0.92       110\n",
      "\n",
      "    accuracy                           0.91       197\n",
      "   macro avg       0.91      0.91      0.91       197\n",
      "weighted avg       0.91      0.91      0.91       197\n",
      "\n",
      "[[80  7]\n",
      " [11 99]]\n",
      "0.9086294416243654\n",
      "------------------------------------------------------------\n",
      "Classifiers:  RandomForestClassifier\n",
      "              precision    recall  f1-score   support\n",
      "\n",
      "       Fraud       0.86      0.99      0.92        87\n",
      "   Non-Fraud       0.99      0.87      0.93       110\n",
      "\n",
      "    accuracy                           0.92       197\n",
      "   macro avg       0.92      0.93      0.92       197\n",
      "weighted avg       0.93      0.92      0.92       197\n",
      "\n",
      "[[86  1]\n",
      " [14 96]]\n",
      "0.9238578680203046\n",
      "------------------------------------------------------------\n"
     ]
    }
   ],
   "source": [
    "class_names = ['Fraud', 'Non-Fraud']\n",
    "for key, classifier in classifiers.items():\n",
    "    y_pred = classifier.predict(X_test)\n",
    "    print(\"Classifiers: \", classifier.__class__.__name__)\n",
    "    print(classification_report(y_test, y_pred, target_names=class_names))\n",
    "    print(confusion_matrix(y_test, y_pred))\n",
    "    print(accuracy_score(y_test, y_pred))\n",
    "    print(\"------------------------------------------------------------\")"
   ]
  },
  {
   "cell_type": "markdown",
   "metadata": {},
   "source": [
    "SVC(Support Vector Classifier) is the best model among others.\n",
    "The F1 score is higher than other algorithms.\n",
    "The trade-off between precision and recall is well balanced."
   ]
  },
  {
   "cell_type": "code",
   "execution_count": 13,
   "metadata": {},
   "outputs": [
    {
     "data": {
      "text/plain": [
       "['model.joblib']"
      ]
     },
     "execution_count": 13,
     "metadata": {},
     "output_type": "execute_result"
    }
   ],
   "source": [
    "classifier = SVC(kernel='linear')\n",
    "joblib.dump(classifier,\"model.joblib\")"
   ]
  },
  {
   "cell_type": "code",
   "execution_count": null,
   "metadata": {},
   "outputs": [],
   "source": []
  }
 ],
 "metadata": {
  "kernelspec": {
   "display_name": "Python 3",
   "language": "python",
   "name": "python3"
  },
  "language_info": {
   "codemirror_mode": {
    "name": "ipython",
    "version": 3
   },
   "file_extension": ".py",
   "mimetype": "text/x-python",
   "name": "python",
   "nbconvert_exporter": "python",
   "pygments_lexer": "ipython3",
   "version": "3.8.3"
  }
 },
 "nbformat": 4,
 "nbformat_minor": 4
}
